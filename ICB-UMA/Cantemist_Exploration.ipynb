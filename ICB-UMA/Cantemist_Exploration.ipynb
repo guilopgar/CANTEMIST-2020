{
 "cells": [
  {
   "cell_type": "markdown",
   "metadata": {},
   "source": [
    "# Cantemist corpus: eCIE-O-3.1\n",
    "\n",
    "This notebook contains a statistical description of the Cantemist corpus, with the aim of tackling the oncology clinical coding text classification subtask (CANTEMIST-CODING track) of the shared task described [here](https://temu.bsc.es/cantemist/). This task aims at assigning histological type of neoplasms ICD-O codes (eCIE-0-3.1 in Spanish) to Spanish clinical cases written in natural language. Section [Corpus summary](#Corpus-summary) describes the most important information extracted throughout the notebook."
   ]
  },
  {
   "cell_type": "code",
   "execution_count": 1,
   "metadata": {},
   "outputs": [],
   "source": [
    "import pandas as pd\n",
    "import numpy as np"
   ]
  },
  {
   "cell_type": "markdown",
   "metadata": {},
   "source": [
    "# Train & dev1 & dev2 & test\n",
    "\n",
    "We perform an exploratory analysis of the eCIE-O-3.1 codes present in the training, developments and testing corpora."
   ]
  },
  {
   "cell_type": "code",
   "execution_count": 2,
   "metadata": {},
   "outputs": [],
   "source": [
    "# Valid codes"
   ]
  },
  {
   "cell_type": "code",
   "execution_count": 2,
   "metadata": {},
   "outputs": [
    {
     "name": "stdout",
     "output_type": "stream",
     "text": [
      "CPU times: user 40.1 ms, sys: 4.02 ms, total: 44.1 ms\n",
      "Wall time: 43.6 ms\n"
     ]
    }
   ],
   "source": [
    "%%time\n",
    "# https://github.com/TeMU-BSC/cantemist-evaluation-library/blob/master/valid-codes.tsv\n",
    "cantemist_valid = pd.read_table(\"../resources/cantemist-evaluation-library/valid-codes.tsv\", sep='\\t', \n",
    "                                header=None)"
   ]
  },
  {
   "cell_type": "code",
   "execution_count": 3,
   "metadata": {},
   "outputs": [
    {
     "data": {
      "text/plain": [
       "(58062, 3)"
      ]
     },
     "execution_count": 3,
     "metadata": {},
     "output_type": "execute_result"
    }
   ],
   "source": [
    "cantemist_valid.shape"
   ]
  },
  {
   "cell_type": "code",
   "execution_count": 4,
   "metadata": {},
   "outputs": [],
   "source": [
    "cantemist_valid.columns = [\"code\", \"desc\", \"abr-desc\"]"
   ]
  },
  {
   "cell_type": "code",
   "execution_count": 5,
   "metadata": {},
   "outputs": [
    {
     "data": {
      "text/html": [
       "<div>\n",
       "<style scoped>\n",
       "    .dataframe tbody tr th:only-of-type {\n",
       "        vertical-align: middle;\n",
       "    }\n",
       "\n",
       "    .dataframe tbody tr th {\n",
       "        vertical-align: top;\n",
       "    }\n",
       "\n",
       "    .dataframe thead th {\n",
       "        text-align: right;\n",
       "    }\n",
       "</style>\n",
       "<table border=\"1\" class=\"dataframe\">\n",
       "  <thead>\n",
       "    <tr style=\"text-align: right;\">\n",
       "      <th></th>\n",
       "      <th>code</th>\n",
       "      <th>desc</th>\n",
       "      <th>abr-desc</th>\n",
       "    </tr>\n",
       "  </thead>\n",
       "  <tbody>\n",
       "    <tr>\n",
       "      <th>0</th>\n",
       "      <td>8000/0</td>\n",
       "      <td>Neoplasia benigna</td>\n",
       "      <td>Neoplasia benigna</td>\n",
       "    </tr>\n",
       "    <tr>\n",
       "      <th>1</th>\n",
       "      <td>8000/1</td>\n",
       "      <td>Neoplasia de benignidad o malignidad incierta</td>\n",
       "      <td>Neoplasia, benignidad o malignidad incierta</td>\n",
       "    </tr>\n",
       "    <tr>\n",
       "      <th>2</th>\n",
       "      <td>8000/3</td>\n",
       "      <td>Neoplasia maligna</td>\n",
       "      <td>Neoplasia maligna</td>\n",
       "    </tr>\n",
       "    <tr>\n",
       "      <th>3</th>\n",
       "      <td>8000/31</td>\n",
       "      <td>Neoplasia maligna - grado I, bien diferenciado</td>\n",
       "      <td>Neoplasia maligna - G1</td>\n",
       "    </tr>\n",
       "    <tr>\n",
       "      <th>4</th>\n",
       "      <td>8000/32</td>\n",
       "      <td>Neoplasia maligna - grado II, moderadamente di...</td>\n",
       "      <td>Neoplasia maligna - G2</td>\n",
       "    </tr>\n",
       "  </tbody>\n",
       "</table>\n",
       "</div>"
      ],
      "text/plain": [
       "      code                                               desc  \\\n",
       "0   8000/0                                  Neoplasia benigna   \n",
       "1   8000/1      Neoplasia de benignidad o malignidad incierta   \n",
       "2   8000/3                                  Neoplasia maligna   \n",
       "3  8000/31     Neoplasia maligna - grado I, bien diferenciado   \n",
       "4  8000/32  Neoplasia maligna - grado II, moderadamente di...   \n",
       "\n",
       "                                      abr-desc  \n",
       "0                            Neoplasia benigna  \n",
       "1  Neoplasia, benignidad o malignidad incierta  \n",
       "2                            Neoplasia maligna  \n",
       "3                       Neoplasia maligna - G1  \n",
       "4                       Neoplasia maligna - G2  "
      ]
     },
     "execution_count": 5,
     "metadata": {},
     "output_type": "execute_result"
    }
   ],
   "source": [
    "cantemist_valid.head()"
   ]
  },
  {
   "cell_type": "code",
   "execution_count": 6,
   "metadata": {},
   "outputs": [],
   "source": [
    "valid_codes = set(cantemist_valid[\"code\"])"
   ]
  },
  {
   "cell_type": "code",
   "execution_count": 7,
   "metadata": {},
   "outputs": [
    {
     "data": {
      "text/plain": [
       "58062"
      ]
     },
     "execution_count": 7,
     "metadata": {},
     "output_type": "execute_result"
    }
   ],
   "source": [
    "len(valid_codes)"
   ]
  },
  {
   "cell_type": "code",
   "execution_count": 8,
   "metadata": {},
   "outputs": [],
   "source": [
    "# Train corpus"
   ]
  },
  {
   "cell_type": "code",
   "execution_count": 9,
   "metadata": {},
   "outputs": [
    {
     "name": "stdout",
     "output_type": "stream",
     "text": [
      "CPU times: user 0 ns, sys: 3 ms, total: 3 ms\n",
      "Wall time: 2.36 ms\n"
     ]
    }
   ],
   "source": [
    "%%time\n",
    "\n",
    "cantemist_train = pd.read_table(\"../datasets/cantemist_v6/train-set/cantemist-coding/train-coding.tsv\", sep='\\t', header=0) "
   ]
  },
  {
   "cell_type": "code",
   "execution_count": 10,
   "metadata": {},
   "outputs": [
    {
     "data": {
      "text/plain": [
       "(2757, 2)"
      ]
     },
     "execution_count": 10,
     "metadata": {},
     "output_type": "execute_result"
    }
   ],
   "source": [
    "cantemist_train.shape"
   ]
  },
  {
   "cell_type": "code",
   "execution_count": 11,
   "metadata": {},
   "outputs": [
    {
     "data": {
      "text/html": [
       "<div>\n",
       "<style scoped>\n",
       "    .dataframe tbody tr th:only-of-type {\n",
       "        vertical-align: middle;\n",
       "    }\n",
       "\n",
       "    .dataframe tbody tr th {\n",
       "        vertical-align: top;\n",
       "    }\n",
       "\n",
       "    .dataframe thead th {\n",
       "        text-align: right;\n",
       "    }\n",
       "</style>\n",
       "<table border=\"1\" class=\"dataframe\">\n",
       "  <thead>\n",
       "    <tr style=\"text-align: right;\">\n",
       "      <th></th>\n",
       "      <th>file</th>\n",
       "      <th>code</th>\n",
       "    </tr>\n",
       "  </thead>\n",
       "  <tbody>\n",
       "    <tr>\n",
       "      <th>2752</th>\n",
       "      <td>cc_onco644</td>\n",
       "      <td>8000/6</td>\n",
       "    </tr>\n",
       "    <tr>\n",
       "      <th>2753</th>\n",
       "      <td>cc_onco644</td>\n",
       "      <td>8000/3</td>\n",
       "    </tr>\n",
       "    <tr>\n",
       "      <th>2754</th>\n",
       "      <td>cc_onco644</td>\n",
       "      <td>8523/33</td>\n",
       "    </tr>\n",
       "    <tr>\n",
       "      <th>2755</th>\n",
       "      <td>cc_onco644</td>\n",
       "      <td>8520/34</td>\n",
       "    </tr>\n",
       "    <tr>\n",
       "      <th>2756</th>\n",
       "      <td>cc_onco644</td>\n",
       "      <td>8010/3/H</td>\n",
       "    </tr>\n",
       "  </tbody>\n",
       "</table>\n",
       "</div>"
      ],
      "text/plain": [
       "            file      code\n",
       "2752  cc_onco644    8000/6\n",
       "2753  cc_onco644    8000/3\n",
       "2754  cc_onco644   8523/33\n",
       "2755  cc_onco644   8520/34\n",
       "2756  cc_onco644  8010/3/H"
      ]
     },
     "execution_count": 11,
     "metadata": {},
     "output_type": "execute_result"
    }
   ],
   "source": [
    "cantemist_train.tail()"
   ]
  },
  {
   "cell_type": "code",
   "execution_count": 12,
   "metadata": {},
   "outputs": [
    {
     "data": {
      "text/plain": [
       "501"
      ]
     },
     "execution_count": 12,
     "metadata": {},
     "output_type": "execute_result"
    }
   ],
   "source": [
    "# 501 expected\n",
    "len(set(cantemist_train[\"file\"]))"
   ]
  },
  {
   "cell_type": "code",
   "execution_count": 13,
   "metadata": {},
   "outputs": [
    {
     "data": {
      "text/plain": [
       "False"
      ]
     },
     "execution_count": 13,
     "metadata": {},
     "output_type": "execute_result"
    }
   ],
   "source": [
    "cantemist_train.isnull().values.any()"
   ]
  },
  {
   "cell_type": "markdown",
   "metadata": {},
   "source": [
    "We check if there are duplicated document-code associations:"
   ]
  },
  {
   "cell_type": "code",
   "execution_count": 14,
   "metadata": {},
   "outputs": [
    {
     "data": {
      "text/plain": [
       "1"
      ]
     },
     "execution_count": 14,
     "metadata": {},
     "output_type": "execute_result"
    }
   ],
   "source": [
    "sum(cantemist_train.duplicated())"
   ]
  },
  {
   "cell_type": "code",
   "execution_count": 15,
   "metadata": {},
   "outputs": [
    {
     "data": {
      "text/html": [
       "<div>\n",
       "<style scoped>\n",
       "    .dataframe tbody tr th:only-of-type {\n",
       "        vertical-align: middle;\n",
       "    }\n",
       "\n",
       "    .dataframe tbody tr th {\n",
       "        vertical-align: top;\n",
       "    }\n",
       "\n",
       "    .dataframe thead th {\n",
       "        text-align: right;\n",
       "    }\n",
       "</style>\n",
       "<table border=\"1\" class=\"dataframe\">\n",
       "  <thead>\n",
       "    <tr style=\"text-align: right;\">\n",
       "      <th></th>\n",
       "      <th>file</th>\n",
       "      <th>code</th>\n",
       "    </tr>\n",
       "  </thead>\n",
       "  <tbody>\n",
       "    <tr>\n",
       "      <th>1862</th>\n",
       "      <td>cc_onco768</td>\n",
       "      <td>9080/1</td>\n",
       "    </tr>\n",
       "    <tr>\n",
       "      <th>1863</th>\n",
       "      <td>cc_onco768</td>\n",
       "      <td>9080/1</td>\n",
       "    </tr>\n",
       "  </tbody>\n",
       "</table>\n",
       "</div>"
      ],
      "text/plain": [
       "            file    code\n",
       "1862  cc_onco768  9080/1\n",
       "1863  cc_onco768  9080/1"
      ]
     },
     "execution_count": 15,
     "metadata": {},
     "output_type": "execute_result"
    }
   ],
   "source": [
    "cantemist_train[cantemist_train.duplicated(keep=False)]"
   ]
  },
  {
   "cell_type": "markdown",
   "metadata": {},
   "source": [
    "We remove duplicated document-code assignments:"
   ]
  },
  {
   "cell_type": "code",
   "execution_count": 16,
   "metadata": {},
   "outputs": [],
   "source": [
    "cantemist_train = cantemist_train[~cantemist_train.duplicated(keep='first')]"
   ]
  },
  {
   "cell_type": "code",
   "execution_count": 17,
   "metadata": {},
   "outputs": [
    {
     "data": {
      "text/plain": [
       "0"
      ]
     },
     "execution_count": 17,
     "metadata": {},
     "output_type": "execute_result"
    }
   ],
   "source": [
    "sum(cantemist_train.duplicated())"
   ]
  },
  {
   "cell_type": "code",
   "execution_count": 18,
   "metadata": {},
   "outputs": [
    {
     "data": {
      "text/plain": [
       "(2756, 2)"
      ]
     },
     "execution_count": 18,
     "metadata": {},
     "output_type": "execute_result"
    }
   ],
   "source": [
    "cantemist_train.shape"
   ]
  },
  {
   "cell_type": "markdown",
   "metadata": {},
   "source": [
    "We check the number of distinct oncology training codes:"
   ]
  },
  {
   "cell_type": "code",
   "execution_count": 19,
   "metadata": {},
   "outputs": [],
   "source": [
    "train_codes = set(cantemist_train[\"code\"])"
   ]
  },
  {
   "cell_type": "code",
   "execution_count": 20,
   "metadata": {},
   "outputs": [
    {
     "data": {
      "text/plain": [
       "493"
      ]
     },
     "execution_count": 20,
     "metadata": {},
     "output_type": "execute_result"
    }
   ],
   "source": [
    "len(train_codes)"
   ]
  },
  {
   "cell_type": "markdown",
   "metadata": {},
   "source": [
    "As a sanity check procedure, we check if ALL training codes are valid:"
   ]
  },
  {
   "cell_type": "code",
   "execution_count": 21,
   "metadata": {},
   "outputs": [
    {
     "data": {
      "text/plain": [
       "0"
      ]
     },
     "execution_count": 21,
     "metadata": {},
     "output_type": "execute_result"
    }
   ],
   "source": [
    "len(train_codes - valid_codes)"
   ]
  },
  {
   "cell_type": "code",
   "execution_count": 23,
   "metadata": {},
   "outputs": [],
   "source": [
    "# Dev1 corpus"
   ]
  },
  {
   "cell_type": "code",
   "execution_count": 22,
   "metadata": {},
   "outputs": [
    {
     "name": "stdout",
     "output_type": "stream",
     "text": [
      "CPU times: user 2.16 ms, sys: 260 µs, total: 2.42 ms\n",
      "Wall time: 1.94 ms\n"
     ]
    }
   ],
   "source": [
    "%%time\n",
    "\n",
    "cantemist_dev1 = pd.read_table(\"../datasets/cantemist_v6/dev-set1/cantemist-coding/dev1-coding.tsv\", sep='\\t', header=0) "
   ]
  },
  {
   "cell_type": "code",
   "execution_count": 23,
   "metadata": {},
   "outputs": [
    {
     "data": {
      "text/plain": [
       "(1385, 2)"
      ]
     },
     "execution_count": 23,
     "metadata": {},
     "output_type": "execute_result"
    }
   ],
   "source": [
    "cantemist_dev1.shape"
   ]
  },
  {
   "cell_type": "code",
   "execution_count": 24,
   "metadata": {},
   "outputs": [
    {
     "data": {
      "text/html": [
       "<div>\n",
       "<style scoped>\n",
       "    .dataframe tbody tr th:only-of-type {\n",
       "        vertical-align: middle;\n",
       "    }\n",
       "\n",
       "    .dataframe tbody tr th {\n",
       "        vertical-align: top;\n",
       "    }\n",
       "\n",
       "    .dataframe thead th {\n",
       "        text-align: right;\n",
       "    }\n",
       "</style>\n",
       "<table border=\"1\" class=\"dataframe\">\n",
       "  <thead>\n",
       "    <tr style=\"text-align: right;\">\n",
       "      <th></th>\n",
       "      <th>file</th>\n",
       "      <th>code</th>\n",
       "    </tr>\n",
       "  </thead>\n",
       "  <tbody>\n",
       "    <tr>\n",
       "      <th>1380</th>\n",
       "      <td>cc_onco976</td>\n",
       "      <td>8500/3</td>\n",
       "    </tr>\n",
       "    <tr>\n",
       "      <th>1381</th>\n",
       "      <td>cc_onco976</td>\n",
       "      <td>8000/3</td>\n",
       "    </tr>\n",
       "    <tr>\n",
       "      <th>1382</th>\n",
       "      <td>cc_onco976</td>\n",
       "      <td>8000/1</td>\n",
       "    </tr>\n",
       "    <tr>\n",
       "      <th>1383</th>\n",
       "      <td>cc_onco976</td>\n",
       "      <td>8000/6</td>\n",
       "    </tr>\n",
       "    <tr>\n",
       "      <th>1384</th>\n",
       "      <td>cc_onco976</td>\n",
       "      <td>8841/1</td>\n",
       "    </tr>\n",
       "  </tbody>\n",
       "</table>\n",
       "</div>"
      ],
      "text/plain": [
       "            file    code\n",
       "1380  cc_onco976  8500/3\n",
       "1381  cc_onco976  8000/3\n",
       "1382  cc_onco976  8000/1\n",
       "1383  cc_onco976  8000/6\n",
       "1384  cc_onco976  8841/1"
      ]
     },
     "execution_count": 24,
     "metadata": {},
     "output_type": "execute_result"
    }
   ],
   "source": [
    "cantemist_dev1.tail()"
   ]
  },
  {
   "cell_type": "code",
   "execution_count": 25,
   "metadata": {},
   "outputs": [
    {
     "data": {
      "text/plain": [
       "249"
      ]
     },
     "execution_count": 25,
     "metadata": {},
     "output_type": "execute_result"
    }
   ],
   "source": [
    "# 250 expected\n",
    "len(set(cantemist_dev1[\"file\"]))"
   ]
  },
  {
   "cell_type": "code",
   "execution_count": 26,
   "metadata": {},
   "outputs": [
    {
     "data": {
      "text/plain": [
       "False"
      ]
     },
     "execution_count": 26,
     "metadata": {},
     "output_type": "execute_result"
    }
   ],
   "source": [
    "cantemist_dev1.isnull().values.any()"
   ]
  },
  {
   "cell_type": "markdown",
   "metadata": {},
   "source": [
    "We check if there are duplicated document-code associations:"
   ]
  },
  {
   "cell_type": "code",
   "execution_count": 27,
   "metadata": {},
   "outputs": [
    {
     "data": {
      "text/plain": [
       "False"
      ]
     },
     "execution_count": 27,
     "metadata": {},
     "output_type": "execute_result"
    }
   ],
   "source": [
    "cantemist_dev1.duplicated().any()"
   ]
  },
  {
   "cell_type": "markdown",
   "metadata": {},
   "source": [
    "We check the number of distinct oncology development codes:"
   ]
  },
  {
   "cell_type": "code",
   "execution_count": 28,
   "metadata": {},
   "outputs": [],
   "source": [
    "dev1_codes = set(cantemist_dev1[\"code\"])"
   ]
  },
  {
   "cell_type": "code",
   "execution_count": 29,
   "metadata": {},
   "outputs": [
    {
     "data": {
      "text/plain": [
       "338"
      ]
     },
     "execution_count": 29,
     "metadata": {},
     "output_type": "execute_result"
    }
   ],
   "source": [
    "len(dev1_codes)"
   ]
  },
  {
   "cell_type": "markdown",
   "metadata": {},
   "source": [
    "As a sanity check procedure, we check if ALL development codes are valid:"
   ]
  },
  {
   "cell_type": "code",
   "execution_count": 30,
   "metadata": {},
   "outputs": [
    {
     "data": {
      "text/plain": [
       "0"
      ]
     },
     "execution_count": 30,
     "metadata": {},
     "output_type": "execute_result"
    }
   ],
   "source": [
    "len(dev1_codes - valid_codes)"
   ]
  },
  {
   "cell_type": "code",
   "execution_count": 23,
   "metadata": {},
   "outputs": [],
   "source": [
    "# Dev2 corpus"
   ]
  },
  {
   "cell_type": "code",
   "execution_count": 31,
   "metadata": {},
   "outputs": [
    {
     "name": "stdout",
     "output_type": "stream",
     "text": [
      "CPU times: user 4.07 ms, sys: 1 µs, total: 4.08 ms\n",
      "Wall time: 3.63 ms\n"
     ]
    }
   ],
   "source": [
    "%%time\n",
    "\n",
    "cantemist_dev2 = pd.read_table(\"../datasets/cantemist_v6/dev-set2/cantemist-coding/dev2-coding.tsv\", sep='\\t', header=0) "
   ]
  },
  {
   "cell_type": "code",
   "execution_count": 32,
   "metadata": {},
   "outputs": [
    {
     "data": {
      "text/plain": [
       "(1279, 2)"
      ]
     },
     "execution_count": 32,
     "metadata": {},
     "output_type": "execute_result"
    }
   ],
   "source": [
    "cantemist_dev2.shape"
   ]
  },
  {
   "cell_type": "code",
   "execution_count": 33,
   "metadata": {},
   "outputs": [
    {
     "data": {
      "text/html": [
       "<div>\n",
       "<style scoped>\n",
       "    .dataframe tbody tr th:only-of-type {\n",
       "        vertical-align: middle;\n",
       "    }\n",
       "\n",
       "    .dataframe tbody tr th {\n",
       "        vertical-align: top;\n",
       "    }\n",
       "\n",
       "    .dataframe thead th {\n",
       "        text-align: right;\n",
       "    }\n",
       "</style>\n",
       "<table border=\"1\" class=\"dataframe\">\n",
       "  <thead>\n",
       "    <tr style=\"text-align: right;\">\n",
       "      <th></th>\n",
       "      <th>file</th>\n",
       "      <th>code</th>\n",
       "    </tr>\n",
       "  </thead>\n",
       "  <tbody>\n",
       "    <tr>\n",
       "      <th>1274</th>\n",
       "      <td>cc_onco1353</td>\n",
       "      <td>8000/1</td>\n",
       "    </tr>\n",
       "    <tr>\n",
       "      <th>1275</th>\n",
       "      <td>cc_onco1444</td>\n",
       "      <td>9120/3</td>\n",
       "    </tr>\n",
       "    <tr>\n",
       "      <th>1276</th>\n",
       "      <td>cc_onco1444</td>\n",
       "      <td>8000/6</td>\n",
       "    </tr>\n",
       "    <tr>\n",
       "      <th>1277</th>\n",
       "      <td>cc_onco1444</td>\n",
       "      <td>8000/1</td>\n",
       "    </tr>\n",
       "    <tr>\n",
       "      <th>1278</th>\n",
       "      <td>cc_onco1444</td>\n",
       "      <td>9120/34</td>\n",
       "    </tr>\n",
       "  </tbody>\n",
       "</table>\n",
       "</div>"
      ],
      "text/plain": [
       "             file     code\n",
       "1274  cc_onco1353   8000/1\n",
       "1275  cc_onco1444   9120/3\n",
       "1276  cc_onco1444   8000/6\n",
       "1277  cc_onco1444   8000/1\n",
       "1278  cc_onco1444  9120/34"
      ]
     },
     "execution_count": 33,
     "metadata": {},
     "output_type": "execute_result"
    }
   ],
   "source": [
    "cantemist_dev2.tail()"
   ]
  },
  {
   "cell_type": "code",
   "execution_count": 34,
   "metadata": {},
   "outputs": [
    {
     "data": {
      "text/plain": [
       "250"
      ]
     },
     "execution_count": 34,
     "metadata": {},
     "output_type": "execute_result"
    }
   ],
   "source": [
    "# 250 expected\n",
    "len(set(cantemist_dev2[\"file\"]))"
   ]
  },
  {
   "cell_type": "code",
   "execution_count": 35,
   "metadata": {},
   "outputs": [
    {
     "data": {
      "text/plain": [
       "False"
      ]
     },
     "execution_count": 35,
     "metadata": {},
     "output_type": "execute_result"
    }
   ],
   "source": [
    "cantemist_dev2.isnull().values.any()"
   ]
  },
  {
   "cell_type": "markdown",
   "metadata": {},
   "source": [
    "We check if there are duplicated document-code associations:"
   ]
  },
  {
   "cell_type": "code",
   "execution_count": 36,
   "metadata": {},
   "outputs": [
    {
     "data": {
      "text/plain": [
       "False"
      ]
     },
     "execution_count": 36,
     "metadata": {},
     "output_type": "execute_result"
    }
   ],
   "source": [
    "cantemist_dev2.duplicated().any()"
   ]
  },
  {
   "cell_type": "markdown",
   "metadata": {},
   "source": [
    "We check the number of distinct oncology development codes:"
   ]
  },
  {
   "cell_type": "code",
   "execution_count": 37,
   "metadata": {},
   "outputs": [],
   "source": [
    "dev2_codes = set(cantemist_dev2[\"code\"])"
   ]
  },
  {
   "cell_type": "code",
   "execution_count": 38,
   "metadata": {},
   "outputs": [
    {
     "data": {
      "text/plain": [
       "334"
      ]
     },
     "execution_count": 38,
     "metadata": {},
     "output_type": "execute_result"
    }
   ],
   "source": [
    "len(dev2_codes)"
   ]
  },
  {
   "cell_type": "markdown",
   "metadata": {},
   "source": [
    "As a sanity check procedure, we check if ALL development codes are valid:"
   ]
  },
  {
   "cell_type": "code",
   "execution_count": 39,
   "metadata": {},
   "outputs": [
    {
     "data": {
      "text/plain": [
       "0"
      ]
     },
     "execution_count": 39,
     "metadata": {},
     "output_type": "execute_result"
    }
   ],
   "source": [
    "len(dev2_codes - valid_codes)"
   ]
  },
  {
   "cell_type": "code",
   "execution_count": 23,
   "metadata": {},
   "outputs": [],
   "source": [
    "# Test corpus"
   ]
  },
  {
   "cell_type": "code",
   "execution_count": 41,
   "metadata": {},
   "outputs": [
    {
     "name": "stdout",
     "output_type": "stream",
     "text": [
      "CPU times: user 4.95 ms, sys: 0 ns, total: 4.95 ms\n",
      "Wall time: 4.25 ms\n"
     ]
    }
   ],
   "source": [
    "%%time\n",
    "\n",
    "cantemist_test = pd.read_table(\"../datasets/cantemist_v6/test-set/cantemist-coding/test-coding.tsv\", sep='\\t', header=0) "
   ]
  },
  {
   "cell_type": "code",
   "execution_count": 42,
   "metadata": {},
   "outputs": [
    {
     "data": {
      "text/plain": [
       "(1599, 2)"
      ]
     },
     "execution_count": 42,
     "metadata": {},
     "output_type": "execute_result"
    }
   ],
   "source": [
    "cantemist_test.shape"
   ]
  },
  {
   "cell_type": "code",
   "execution_count": 43,
   "metadata": {},
   "outputs": [
    {
     "data": {
      "text/html": [
       "<div>\n",
       "<style scoped>\n",
       "    .dataframe tbody tr th:only-of-type {\n",
       "        vertical-align: middle;\n",
       "    }\n",
       "\n",
       "    .dataframe tbody tr th {\n",
       "        vertical-align: top;\n",
       "    }\n",
       "\n",
       "    .dataframe thead th {\n",
       "        text-align: right;\n",
       "    }\n",
       "</style>\n",
       "<table border=\"1\" class=\"dataframe\">\n",
       "  <thead>\n",
       "    <tr style=\"text-align: right;\">\n",
       "      <th></th>\n",
       "      <th>file</th>\n",
       "      <th>code</th>\n",
       "    </tr>\n",
       "  </thead>\n",
       "  <tbody>\n",
       "    <tr>\n",
       "      <th>1594</th>\n",
       "      <td>cc_onco248</td>\n",
       "      <td>8010/33</td>\n",
       "    </tr>\n",
       "    <tr>\n",
       "      <th>1595</th>\n",
       "      <td>cc_onco248</td>\n",
       "      <td>8001/3</td>\n",
       "    </tr>\n",
       "    <tr>\n",
       "      <th>1596</th>\n",
       "      <td>cc_onco248</td>\n",
       "      <td>8000/6</td>\n",
       "    </tr>\n",
       "    <tr>\n",
       "      <th>1597</th>\n",
       "      <td>cc_onco248</td>\n",
       "      <td>8000/1</td>\n",
       "    </tr>\n",
       "    <tr>\n",
       "      <th>1598</th>\n",
       "      <td>cc_onco248</td>\n",
       "      <td>8020/6</td>\n",
       "    </tr>\n",
       "  </tbody>\n",
       "</table>\n",
       "</div>"
      ],
      "text/plain": [
       "            file     code\n",
       "1594  cc_onco248  8010/33\n",
       "1595  cc_onco248   8001/3\n",
       "1596  cc_onco248   8000/6\n",
       "1597  cc_onco248   8000/1\n",
       "1598  cc_onco248   8020/6"
      ]
     },
     "execution_count": 43,
     "metadata": {},
     "output_type": "execute_result"
    }
   ],
   "source": [
    "cantemist_test.tail()"
   ]
  },
  {
   "cell_type": "code",
   "execution_count": 44,
   "metadata": {},
   "outputs": [
    {
     "data": {
      "text/plain": [
       "300"
      ]
     },
     "execution_count": 44,
     "metadata": {},
     "output_type": "execute_result"
    }
   ],
   "source": [
    "# 300 expected\n",
    "len(set(cantemist_test[\"file\"]))"
   ]
  },
  {
   "cell_type": "code",
   "execution_count": 45,
   "metadata": {},
   "outputs": [
    {
     "data": {
      "text/plain": [
       "False"
      ]
     },
     "execution_count": 45,
     "metadata": {},
     "output_type": "execute_result"
    }
   ],
   "source": [
    "cantemist_test.isnull().values.any()"
   ]
  },
  {
   "cell_type": "markdown",
   "metadata": {},
   "source": [
    "We check if there are duplicated document-code associations:"
   ]
  },
  {
   "cell_type": "code",
   "execution_count": 46,
   "metadata": {},
   "outputs": [
    {
     "data": {
      "text/plain": [
       "False"
      ]
     },
     "execution_count": 46,
     "metadata": {},
     "output_type": "execute_result"
    }
   ],
   "source": [
    "cantemist_test.duplicated().any()"
   ]
  },
  {
   "cell_type": "markdown",
   "metadata": {},
   "source": [
    "We check the number of distinct oncology testing codes:"
   ]
  },
  {
   "cell_type": "code",
   "execution_count": 47,
   "metadata": {},
   "outputs": [],
   "source": [
    "test_codes = set(cantemist_test[\"code\"])"
   ]
  },
  {
   "cell_type": "code",
   "execution_count": 48,
   "metadata": {},
   "outputs": [
    {
     "data": {
      "text/plain": [
       "386"
      ]
     },
     "execution_count": 48,
     "metadata": {},
     "output_type": "execute_result"
    }
   ],
   "source": [
    "len(test_codes)"
   ]
  },
  {
   "cell_type": "markdown",
   "metadata": {},
   "source": [
    "As a sanity check procedure, we check if ALL testing codes are valid:"
   ]
  },
  {
   "cell_type": "code",
   "execution_count": 49,
   "metadata": {},
   "outputs": [
    {
     "data": {
      "text/plain": [
       "0"
      ]
     },
     "execution_count": 49,
     "metadata": {},
     "output_type": "execute_result"
    }
   ],
   "source": [
    "len(test_codes - valid_codes)"
   ]
  },
  {
   "cell_type": "markdown",
   "metadata": {},
   "source": [
    "To sum up, we generate the following tables:"
   ]
  },
  {
   "cell_type": "code",
   "execution_count": 50,
   "metadata": {},
   "outputs": [],
   "source": [
    "col_names = ['Training', 'Development-1', 'Development-2', 'Test']\n",
    "row_names = ['Documents', 'Total ICD-O codes', 'Avg ICD-O codes per doc.', 'Unique ICD-O codes', 'Avg docs. per ICD-O code', \n",
    "             'Unique unseen ICD-O codes']"
   ]
  },
  {
   "cell_type": "code",
   "execution_count": 56,
   "metadata": {},
   "outputs": [
    {
     "data": {
      "text/html": [
       "<div>\n",
       "<style scoped>\n",
       "    .dataframe tbody tr th:only-of-type {\n",
       "        vertical-align: middle;\n",
       "    }\n",
       "\n",
       "    .dataframe tbody tr th {\n",
       "        vertical-align: top;\n",
       "    }\n",
       "\n",
       "    .dataframe thead th {\n",
       "        text-align: right;\n",
       "    }\n",
       "</style>\n",
       "<table border=\"1\" class=\"dataframe\">\n",
       "  <thead>\n",
       "    <tr style=\"text-align: right;\">\n",
       "      <th></th>\n",
       "      <th>Training</th>\n",
       "      <th>Development-1</th>\n",
       "      <th>Development-2</th>\n",
       "      <th>Test</th>\n",
       "    </tr>\n",
       "  </thead>\n",
       "  <tbody>\n",
       "    <tr>\n",
       "      <th>Documents</th>\n",
       "      <td>501</td>\n",
       "      <td>249.000000</td>\n",
       "      <td>250.000000</td>\n",
       "      <td>300.000000</td>\n",
       "    </tr>\n",
       "    <tr>\n",
       "      <th>Total ICD-O codes</th>\n",
       "      <td>2756</td>\n",
       "      <td>1385.000000</td>\n",
       "      <td>1279.000000</td>\n",
       "      <td>1599.000000</td>\n",
       "    </tr>\n",
       "    <tr>\n",
       "      <th>Avg ICD-O codes per doc.</th>\n",
       "      <td>5.501</td>\n",
       "      <td>5.562249</td>\n",
       "      <td>5.116000</td>\n",
       "      <td>5.330000</td>\n",
       "    </tr>\n",
       "    <tr>\n",
       "      <th>Unique ICD-O codes</th>\n",
       "      <td>493</td>\n",
       "      <td>338.000000</td>\n",
       "      <td>334.000000</td>\n",
       "      <td>386.000000</td>\n",
       "    </tr>\n",
       "    <tr>\n",
       "      <th>Avg docs. per ICD-O code</th>\n",
       "      <td>5.59026</td>\n",
       "      <td>4.097633</td>\n",
       "      <td>3.829341</td>\n",
       "      <td>4.142487</td>\n",
       "    </tr>\n",
       "    <tr>\n",
       "      <th>Unique unseen ICD-O codes</th>\n",
       "      <td>-</td>\n",
       "      <td>130.000000</td>\n",
       "      <td>120.000000</td>\n",
       "      <td>107.000000</td>\n",
       "    </tr>\n",
       "  </tbody>\n",
       "</table>\n",
       "</div>"
      ],
      "text/plain": [
       "                          Training  Development-1  Development-2         Test\n",
       "Documents                      501     249.000000     250.000000   300.000000\n",
       "Total ICD-O codes             2756    1385.000000    1279.000000  1599.000000\n",
       "Avg ICD-O codes per doc.     5.501       5.562249       5.116000     5.330000\n",
       "Unique ICD-O codes             493     338.000000     334.000000   386.000000\n",
       "Avg docs. per ICD-O code   5.59026       4.097633       3.829341     4.142487\n",
       "Unique unseen ICD-O codes        -     130.000000     120.000000   107.000000"
      ]
     },
     "execution_count": 56,
     "metadata": {},
     "output_type": "execute_result"
    }
   ],
   "source": [
    "# Train & dev & test codes table\n",
    "cantemist_tab = pd.DataFrame({col_names[0]: [len(set(cantemist_train.file)), \n",
    "                                       cantemist_train.shape[0], \n",
    "                                       cantemist_train.shape[0]/len(set(cantemist_train.file)), \n",
    "                                       len(train_codes), \n",
    "                                       cantemist_train.shape[0]/len(train_codes), \n",
    "                                       \"-\"], \n",
    "              col_names[1]: [len(set(cantemist_dev1.file)), \n",
    "                             cantemist_dev1.shape[0], \n",
    "                             cantemist_dev1.shape[0]/len(set(cantemist_dev1.file)), \n",
    "                             len(dev1_codes), \n",
    "                             cantemist_dev1.shape[0]/len(dev1_codes), \n",
    "                             len(dev1_codes - train_codes)],\n",
    "              col_names[2]: [len(set(cantemist_dev2.file)), \n",
    "                             cantemist_dev2.shape[0], \n",
    "                             cantemist_dev2.shape[0]/len(set(cantemist_dev2.file)), \n",
    "                             len(dev2_codes), \n",
    "                             cantemist_dev2.shape[0]/len(dev2_codes), \n",
    "                             len(dev2_codes - dev1_codes - train_codes)],\n",
    "              col_names[3]: [len(set(cantemist_test.file)), \n",
    "                             cantemist_test.shape[0], \n",
    "                             cantemist_test.shape[0]/len(set(cantemist_test.file)), \n",
    "                             len(test_codes), \n",
    "                             cantemist_test.shape[0]/len(test_codes), \n",
    "                             len(test_codes - dev2_codes - dev1_codes - train_codes)]}, \n",
    "                       index=row_names)\n",
    "cantemist_tab = cantemist_tab.reindex(columns=col_names)\n",
    "cantemist_tab"
   ]
  },
  {
   "cell_type": "code",
   "execution_count": 57,
   "metadata": {},
   "outputs": [
    {
     "data": {
      "text/html": [
       "<div>\n",
       "<style scoped>\n",
       "    .dataframe tbody tr th:only-of-type {\n",
       "        vertical-align: middle;\n",
       "    }\n",
       "\n",
       "    .dataframe tbody tr th {\n",
       "        vertical-align: top;\n",
       "    }\n",
       "\n",
       "    .dataframe thead th {\n",
       "        text-align: right;\n",
       "    }\n",
       "</style>\n",
       "<table border=\"1\" class=\"dataframe\">\n",
       "  <thead>\n",
       "    <tr style=\"text-align: right;\">\n",
       "      <th></th>\n",
       "      <th>Training</th>\n",
       "      <th>Development-1</th>\n",
       "      <th>Development-2</th>\n",
       "      <th>Test</th>\n",
       "    </tr>\n",
       "  </thead>\n",
       "  <tbody>\n",
       "    <tr>\n",
       "      <th>Documents</th>\n",
       "      <td>500</td>\n",
       "      <td>248.000000</td>\n",
       "      <td>249.000000</td>\n",
       "      <td>300.000000</td>\n",
       "    </tr>\n",
       "    <tr>\n",
       "      <th>Total ICD-O codes</th>\n",
       "      <td>2299</td>\n",
       "      <td>1158.000000</td>\n",
       "      <td>1076.000000</td>\n",
       "      <td>1349.000000</td>\n",
       "    </tr>\n",
       "    <tr>\n",
       "      <th>Avg ICD-O codes per doc.</th>\n",
       "      <td>4.598</td>\n",
       "      <td>4.669355</td>\n",
       "      <td>4.321285</td>\n",
       "      <td>4.496667</td>\n",
       "    </tr>\n",
       "    <tr>\n",
       "      <th>Unique ICD-O codes</th>\n",
       "      <td>492</td>\n",
       "      <td>337.000000</td>\n",
       "      <td>333.000000</td>\n",
       "      <td>385.000000</td>\n",
       "    </tr>\n",
       "    <tr>\n",
       "      <th>Avg docs. per ICD-O code</th>\n",
       "      <td>4.67276</td>\n",
       "      <td>3.436202</td>\n",
       "      <td>3.231231</td>\n",
       "      <td>3.503896</td>\n",
       "    </tr>\n",
       "    <tr>\n",
       "      <th>Unique unseen ICD-O codes</th>\n",
       "      <td>-</td>\n",
       "      <td>130.000000</td>\n",
       "      <td>120.000000</td>\n",
       "      <td>107.000000</td>\n",
       "    </tr>\n",
       "  </tbody>\n",
       "</table>\n",
       "</div>"
      ],
      "text/plain": [
       "                          Training  Development-1  Development-2         Test\n",
       "Documents                      500     248.000000     249.000000   300.000000\n",
       "Total ICD-O codes             2299    1158.000000    1076.000000  1349.000000\n",
       "Avg ICD-O codes per doc.     4.598       4.669355       4.321285     4.496667\n",
       "Unique ICD-O codes             492     337.000000     333.000000   385.000000\n",
       "Avg docs. per ICD-O code   4.67276       3.436202       3.231231     3.503896\n",
       "Unique unseen ICD-O codes        -     130.000000     120.000000   107.000000"
      ]
     },
     "execution_count": 57,
     "metadata": {},
     "output_type": "execute_result"
    }
   ],
   "source": [
    "# T# Train & dev & test codes table\n",
    "# Excluding 8000/6 eCIE code\n",
    "exc_code = \"8000/6\"\n",
    "cantemist_train_exc = cantemist_train[cantemist_train[\"code\"] != exc_code]\n",
    "train_codes_exc = set(cantemist_train_exc[\"code\"])\n",
    "\n",
    "cantemist_dev1_exc = cantemist_dev1[cantemist_dev1[\"code\"] != exc_code]\n",
    "dev1_codes_exc = set(cantemist_dev1_exc[\"code\"])\n",
    "\n",
    "cantemist_dev2_exc = cantemist_dev2[cantemist_dev2[\"code\"] != exc_code]\n",
    "dev2_codes_exc = set(cantemist_dev2_exc[\"code\"])\n",
    "\n",
    "cantemist_test_exc = cantemist_test[cantemist_test[\"code\"] != exc_code]\n",
    "test_codes_exc = set(cantemist_test_exc[\"code\"])\n",
    "\n",
    "exc_cantemist_tab = pd.DataFrame({col_names[0]: [len(set(cantemist_train_exc.file)), \n",
    "                                       cantemist_train_exc.shape[0], \n",
    "                                       cantemist_train_exc.shape[0]/len(set(cantemist_train_exc.file)), \n",
    "                                       len(train_codes_exc), \n",
    "                                       cantemist_train_exc.shape[0]/len(train_codes_exc), \n",
    "                                       \"-\"], \n",
    "              col_names[1]: [len(set(cantemist_dev1_exc.file)), \n",
    "                             cantemist_dev1_exc.shape[0], \n",
    "                             cantemist_dev1_exc.shape[0]/len(set(cantemist_dev1_exc.file)), \n",
    "                             len(dev1_codes_exc), \n",
    "                             cantemist_dev1_exc.shape[0]/len(dev1_codes_exc), \n",
    "                             len(dev1_codes_exc - train_codes_exc)],\n",
    "              col_names[2]: [len(set(cantemist_dev2_exc.file)), \n",
    "                             cantemist_dev2_exc.shape[0], \n",
    "                             cantemist_dev2_exc.shape[0]/len(set(cantemist_dev2_exc.file)), \n",
    "                             len(dev2_codes_exc), \n",
    "                             cantemist_dev2_exc.shape[0]/len(dev2_codes_exc), \n",
    "                             len(dev2_codes_exc - dev1_codes_exc - train_codes_exc)],\n",
    "              col_names[3]: [len(set(cantemist_test_exc.file)), \n",
    "                             cantemist_test_exc.shape[0], \n",
    "                             cantemist_test_exc.shape[0]/len(set(cantemist_test_exc.file)), \n",
    "                             len(test_codes_exc), \n",
    "                             cantemist_test_exc.shape[0]/len(test_codes_exc), \n",
    "                             len(test_codes_exc - dev2_codes_exc - dev1_codes_exc - train_codes_exc)]}, \n",
    "                       index=row_names)\n",
    "exc_cantemist_tab = exc_cantemist_tab.reindex(columns=col_names)\n",
    "exc_cantemist_tab"
   ]
  },
  {
   "cell_type": "code",
   "execution_count": 58,
   "metadata": {},
   "outputs": [
    {
     "data": {
      "text/html": [
       "<div>\n",
       "<style scoped>\n",
       "    .dataframe tbody tr th:only-of-type {\n",
       "        vertical-align: middle;\n",
       "    }\n",
       "\n",
       "    .dataframe tbody tr th {\n",
       "        vertical-align: top;\n",
       "    }\n",
       "\n",
       "    .dataframe thead th {\n",
       "        text-align: right;\n",
       "    }\n",
       "</style>\n",
       "<table border=\"1\" class=\"dataframe\">\n",
       "  <thead>\n",
       "    <tr style=\"text-align: right;\">\n",
       "      <th></th>\n",
       "      <th>Training</th>\n",
       "      <th>Development-1</th>\n",
       "      <th>Development-2</th>\n",
       "      <th>Test</th>\n",
       "    </tr>\n",
       "  </thead>\n",
       "  <tbody>\n",
       "    <tr>\n",
       "      <th>count</th>\n",
       "      <td>493.000000</td>\n",
       "      <td>338.000000</td>\n",
       "      <td>334.000000</td>\n",
       "      <td>386.000000</td>\n",
       "    </tr>\n",
       "    <tr>\n",
       "      <th>mean</th>\n",
       "      <td>5.590264</td>\n",
       "      <td>4.097633</td>\n",
       "      <td>3.829341</td>\n",
       "      <td>4.142487</td>\n",
       "    </tr>\n",
       "    <tr>\n",
       "      <th>std</th>\n",
       "      <td>29.587174</td>\n",
       "      <td>17.885539</td>\n",
       "      <td>15.759574</td>\n",
       "      <td>18.503153</td>\n",
       "    </tr>\n",
       "    <tr>\n",
       "      <th>min</th>\n",
       "      <td>1.000000</td>\n",
       "      <td>1.000000</td>\n",
       "      <td>1.000000</td>\n",
       "      <td>1.000000</td>\n",
       "    </tr>\n",
       "    <tr>\n",
       "      <th>25%</th>\n",
       "      <td>1.000000</td>\n",
       "      <td>1.000000</td>\n",
       "      <td>1.000000</td>\n",
       "      <td>1.000000</td>\n",
       "    </tr>\n",
       "    <tr>\n",
       "      <th>50%</th>\n",
       "      <td>1.000000</td>\n",
       "      <td>1.000000</td>\n",
       "      <td>1.000000</td>\n",
       "      <td>1.000000</td>\n",
       "    </tr>\n",
       "    <tr>\n",
       "      <th>75%</th>\n",
       "      <td>3.000000</td>\n",
       "      <td>2.000000</td>\n",
       "      <td>2.000000</td>\n",
       "      <td>2.000000</td>\n",
       "    </tr>\n",
       "    <tr>\n",
       "      <th>max</th>\n",
       "      <td>457.000000</td>\n",
       "      <td>227.000000</td>\n",
       "      <td>203.000000</td>\n",
       "      <td>250.000000</td>\n",
       "    </tr>\n",
       "  </tbody>\n",
       "</table>\n",
       "</div>"
      ],
      "text/plain": [
       "         Training  Development-1  Development-2        Test\n",
       "count  493.000000     338.000000     334.000000  386.000000\n",
       "mean     5.590264       4.097633       3.829341    4.142487\n",
       "std     29.587174      17.885539      15.759574   18.503153\n",
       "min      1.000000       1.000000       1.000000    1.000000\n",
       "25%      1.000000       1.000000       1.000000    1.000000\n",
       "50%      1.000000       1.000000       1.000000    1.000000\n",
       "75%      3.000000       2.000000       2.000000    2.000000\n",
       "max    457.000000     227.000000     203.000000  250.000000"
      ]
     },
     "execution_count": 58,
     "metadata": {},
     "output_type": "execute_result"
    }
   ],
   "source": [
    "# Samples per eCIE-O-3.1 code distribution\n",
    "sample_code = pd.DataFrame({col_names[0]: cantemist_train[\"code\"].value_counts().describe(),\n",
    "                            col_names[1]: cantemist_dev1[\"code\"].value_counts().describe(),\n",
    "                            col_names[2]: cantemist_dev2[\"code\"].value_counts().describe(),\n",
    "                            col_names[3]: cantemist_test[\"code\"].value_counts().describe()}) \n",
    "sample_code = sample_code.reindex(columns=col_names)\n",
    "sample_code"
   ]
  },
  {
   "cell_type": "code",
   "execution_count": 59,
   "metadata": {},
   "outputs": [
    {
     "data": {
      "text/html": [
       "<div>\n",
       "<style scoped>\n",
       "    .dataframe tbody tr th:only-of-type {\n",
       "        vertical-align: middle;\n",
       "    }\n",
       "\n",
       "    .dataframe tbody tr th {\n",
       "        vertical-align: top;\n",
       "    }\n",
       "\n",
       "    .dataframe thead th {\n",
       "        text-align: right;\n",
       "    }\n",
       "</style>\n",
       "<table border=\"1\" class=\"dataframe\">\n",
       "  <thead>\n",
       "    <tr style=\"text-align: right;\">\n",
       "      <th></th>\n",
       "      <th>Training</th>\n",
       "      <th>Development-1</th>\n",
       "      <th>Development-2</th>\n",
       "      <th>Test</th>\n",
       "    </tr>\n",
       "  </thead>\n",
       "  <tbody>\n",
       "    <tr>\n",
       "      <th>count</th>\n",
       "      <td>492.000000</td>\n",
       "      <td>337.000000</td>\n",
       "      <td>333.000000</td>\n",
       "      <td>385.000000</td>\n",
       "    </tr>\n",
       "    <tr>\n",
       "      <th>mean</th>\n",
       "      <td>4.672764</td>\n",
       "      <td>3.436202</td>\n",
       "      <td>3.231231</td>\n",
       "      <td>3.503896</td>\n",
       "    </tr>\n",
       "    <tr>\n",
       "      <th>std</th>\n",
       "      <td>21.478560</td>\n",
       "      <td>13.135158</td>\n",
       "      <td>11.369638</td>\n",
       "      <td>13.617567</td>\n",
       "    </tr>\n",
       "    <tr>\n",
       "      <th>min</th>\n",
       "      <td>1.000000</td>\n",
       "      <td>1.000000</td>\n",
       "      <td>1.000000</td>\n",
       "      <td>1.000000</td>\n",
       "    </tr>\n",
       "    <tr>\n",
       "      <th>25%</th>\n",
       "      <td>1.000000</td>\n",
       "      <td>1.000000</td>\n",
       "      <td>1.000000</td>\n",
       "      <td>1.000000</td>\n",
       "    </tr>\n",
       "    <tr>\n",
       "      <th>50%</th>\n",
       "      <td>1.000000</td>\n",
       "      <td>1.000000</td>\n",
       "      <td>1.000000</td>\n",
       "      <td>1.000000</td>\n",
       "    </tr>\n",
       "    <tr>\n",
       "      <th>75%</th>\n",
       "      <td>3.000000</td>\n",
       "      <td>2.000000</td>\n",
       "      <td>2.000000</td>\n",
       "      <td>2.000000</td>\n",
       "    </tr>\n",
       "    <tr>\n",
       "      <th>max</th>\n",
       "      <td>386.000000</td>\n",
       "      <td>199.000000</td>\n",
       "      <td>178.000000</td>\n",
       "      <td>222.000000</td>\n",
       "    </tr>\n",
       "  </tbody>\n",
       "</table>\n",
       "</div>"
      ],
      "text/plain": [
       "         Training  Development-1  Development-2        Test\n",
       "count  492.000000     337.000000     333.000000  385.000000\n",
       "mean     4.672764       3.436202       3.231231    3.503896\n",
       "std     21.478560      13.135158      11.369638   13.617567\n",
       "min      1.000000       1.000000       1.000000    1.000000\n",
       "25%      1.000000       1.000000       1.000000    1.000000\n",
       "50%      1.000000       1.000000       1.000000    1.000000\n",
       "75%      3.000000       2.000000       2.000000    2.000000\n",
       "max    386.000000     199.000000     178.000000  222.000000"
      ]
     },
     "execution_count": 59,
     "metadata": {},
     "output_type": "execute_result"
    }
   ],
   "source": [
    "# Samples per eCIE-O-3.1 code distribution\n",
    "# Excluding 8000/6\n",
    "exc_sample_code = pd.DataFrame({col_names[0]: cantemist_train_exc[\"code\"].value_counts().describe(),\n",
    "                            col_names[1]: cantemist_dev1_exc[\"code\"].value_counts().describe(),\n",
    "                            col_names[2]: cantemist_dev2_exc[\"code\"].value_counts().describe(),\n",
    "                            col_names[3]: cantemist_test_exc[\"code\"].value_counts().describe()}) \n",
    "exc_sample_code = exc_sample_code.reindex(columns=col_names)\n",
    "exc_sample_code"
   ]
  },
  {
   "cell_type": "markdown",
   "metadata": {},
   "source": [
    "### Corpus summary\n",
    "\n",
    "Description of Cantemist training, developments (dev1 & dev2) and test corpora:"
   ]
  },
  {
   "cell_type": "code",
   "execution_count": 60,
   "metadata": {},
   "outputs": [
    {
     "data": {
      "text/html": [
       "<div>\n",
       "<style scoped>\n",
       "    .dataframe tbody tr th:only-of-type {\n",
       "        vertical-align: middle;\n",
       "    }\n",
       "\n",
       "    .dataframe tbody tr th {\n",
       "        vertical-align: top;\n",
       "    }\n",
       "\n",
       "    .dataframe thead th {\n",
       "        text-align: right;\n",
       "    }\n",
       "</style>\n",
       "<table border=\"1\" class=\"dataframe\">\n",
       "  <thead>\n",
       "    <tr style=\"text-align: right;\">\n",
       "      <th></th>\n",
       "      <th>Training</th>\n",
       "      <th>Development-1</th>\n",
       "      <th>Development-2</th>\n",
       "      <th>Test</th>\n",
       "    </tr>\n",
       "  </thead>\n",
       "  <tbody>\n",
       "    <tr>\n",
       "      <th>Documents</th>\n",
       "      <td>501</td>\n",
       "      <td>249.000000</td>\n",
       "      <td>250.000000</td>\n",
       "      <td>300.000000</td>\n",
       "    </tr>\n",
       "    <tr>\n",
       "      <th>Total ICD-O codes</th>\n",
       "      <td>2756</td>\n",
       "      <td>1385.000000</td>\n",
       "      <td>1279.000000</td>\n",
       "      <td>1599.000000</td>\n",
       "    </tr>\n",
       "    <tr>\n",
       "      <th>Avg ICD-O codes per doc.</th>\n",
       "      <td>5.501</td>\n",
       "      <td>5.562249</td>\n",
       "      <td>5.116000</td>\n",
       "      <td>5.330000</td>\n",
       "    </tr>\n",
       "    <tr>\n",
       "      <th>Unique ICD-O codes</th>\n",
       "      <td>493</td>\n",
       "      <td>338.000000</td>\n",
       "      <td>334.000000</td>\n",
       "      <td>386.000000</td>\n",
       "    </tr>\n",
       "    <tr>\n",
       "      <th>Avg docs. per ICD-O code</th>\n",
       "      <td>5.59026</td>\n",
       "      <td>4.097633</td>\n",
       "      <td>3.829341</td>\n",
       "      <td>4.142487</td>\n",
       "    </tr>\n",
       "    <tr>\n",
       "      <th>Unique unseen ICD-O codes</th>\n",
       "      <td>-</td>\n",
       "      <td>130.000000</td>\n",
       "      <td>120.000000</td>\n",
       "      <td>107.000000</td>\n",
       "    </tr>\n",
       "  </tbody>\n",
       "</table>\n",
       "</div>"
      ],
      "text/plain": [
       "                          Training  Development-1  Development-2         Test\n",
       "Documents                      501     249.000000     250.000000   300.000000\n",
       "Total ICD-O codes             2756    1385.000000    1279.000000  1599.000000\n",
       "Avg ICD-O codes per doc.     5.501       5.562249       5.116000     5.330000\n",
       "Unique ICD-O codes             493     338.000000     334.000000   386.000000\n",
       "Avg docs. per ICD-O code   5.59026       4.097633       3.829341     4.142487\n",
       "Unique unseen ICD-O codes        -     130.000000     120.000000   107.000000"
      ]
     },
     "execution_count": 60,
     "metadata": {},
     "output_type": "execute_result"
    }
   ],
   "source": [
    "cantemist_tab"
   ]
  },
  {
   "cell_type": "code",
   "execution_count": 61,
   "metadata": {},
   "outputs": [
    {
     "data": {
      "text/html": [
       "<div>\n",
       "<style scoped>\n",
       "    .dataframe tbody tr th:only-of-type {\n",
       "        vertical-align: middle;\n",
       "    }\n",
       "\n",
       "    .dataframe tbody tr th {\n",
       "        vertical-align: top;\n",
       "    }\n",
       "\n",
       "    .dataframe thead th {\n",
       "        text-align: right;\n",
       "    }\n",
       "</style>\n",
       "<table border=\"1\" class=\"dataframe\">\n",
       "  <thead>\n",
       "    <tr style=\"text-align: right;\">\n",
       "      <th></th>\n",
       "      <th>Training</th>\n",
       "      <th>Development-1</th>\n",
       "      <th>Development-2</th>\n",
       "      <th>Test</th>\n",
       "    </tr>\n",
       "  </thead>\n",
       "  <tbody>\n",
       "    <tr>\n",
       "      <th>Documents</th>\n",
       "      <td>500</td>\n",
       "      <td>248.000000</td>\n",
       "      <td>249.000000</td>\n",
       "      <td>300.000000</td>\n",
       "    </tr>\n",
       "    <tr>\n",
       "      <th>Total ICD-O codes</th>\n",
       "      <td>2299</td>\n",
       "      <td>1158.000000</td>\n",
       "      <td>1076.000000</td>\n",
       "      <td>1349.000000</td>\n",
       "    </tr>\n",
       "    <tr>\n",
       "      <th>Avg ICD-O codes per doc.</th>\n",
       "      <td>4.598</td>\n",
       "      <td>4.669355</td>\n",
       "      <td>4.321285</td>\n",
       "      <td>4.496667</td>\n",
       "    </tr>\n",
       "    <tr>\n",
       "      <th>Unique ICD-O codes</th>\n",
       "      <td>492</td>\n",
       "      <td>337.000000</td>\n",
       "      <td>333.000000</td>\n",
       "      <td>385.000000</td>\n",
       "    </tr>\n",
       "    <tr>\n",
       "      <th>Avg docs. per ICD-O code</th>\n",
       "      <td>4.67276</td>\n",
       "      <td>3.436202</td>\n",
       "      <td>3.231231</td>\n",
       "      <td>3.503896</td>\n",
       "    </tr>\n",
       "    <tr>\n",
       "      <th>Unique unseen ICD-O codes</th>\n",
       "      <td>-</td>\n",
       "      <td>130.000000</td>\n",
       "      <td>120.000000</td>\n",
       "      <td>107.000000</td>\n",
       "    </tr>\n",
       "  </tbody>\n",
       "</table>\n",
       "</div>"
      ],
      "text/plain": [
       "                          Training  Development-1  Development-2         Test\n",
       "Documents                      500     248.000000     249.000000   300.000000\n",
       "Total ICD-O codes             2299    1158.000000    1076.000000  1349.000000\n",
       "Avg ICD-O codes per doc.     4.598       4.669355       4.321285     4.496667\n",
       "Unique ICD-O codes             492     337.000000     333.000000   385.000000\n",
       "Avg docs. per ICD-O code   4.67276       3.436202       3.231231     3.503896\n",
       "Unique unseen ICD-O codes        -     130.000000     120.000000   107.000000"
      ]
     },
     "execution_count": 61,
     "metadata": {},
     "output_type": "execute_result"
    }
   ],
   "source": [
    "exc_cantemist_tab"
   ]
  },
  {
   "cell_type": "code",
   "execution_count": 62,
   "metadata": {},
   "outputs": [
    {
     "data": {
      "text/html": [
       "<div>\n",
       "<style scoped>\n",
       "    .dataframe tbody tr th:only-of-type {\n",
       "        vertical-align: middle;\n",
       "    }\n",
       "\n",
       "    .dataframe tbody tr th {\n",
       "        vertical-align: top;\n",
       "    }\n",
       "\n",
       "    .dataframe thead th {\n",
       "        text-align: right;\n",
       "    }\n",
       "</style>\n",
       "<table border=\"1\" class=\"dataframe\">\n",
       "  <thead>\n",
       "    <tr style=\"text-align: right;\">\n",
       "      <th></th>\n",
       "      <th>Training</th>\n",
       "      <th>Development-1</th>\n",
       "      <th>Development-2</th>\n",
       "      <th>Test</th>\n",
       "    </tr>\n",
       "  </thead>\n",
       "  <tbody>\n",
       "    <tr>\n",
       "      <th>count</th>\n",
       "      <td>493.000000</td>\n",
       "      <td>338.000000</td>\n",
       "      <td>334.000000</td>\n",
       "      <td>386.000000</td>\n",
       "    </tr>\n",
       "    <tr>\n",
       "      <th>mean</th>\n",
       "      <td>5.590264</td>\n",
       "      <td>4.097633</td>\n",
       "      <td>3.829341</td>\n",
       "      <td>4.142487</td>\n",
       "    </tr>\n",
       "    <tr>\n",
       "      <th>std</th>\n",
       "      <td>29.587174</td>\n",
       "      <td>17.885539</td>\n",
       "      <td>15.759574</td>\n",
       "      <td>18.503153</td>\n",
       "    </tr>\n",
       "    <tr>\n",
       "      <th>min</th>\n",
       "      <td>1.000000</td>\n",
       "      <td>1.000000</td>\n",
       "      <td>1.000000</td>\n",
       "      <td>1.000000</td>\n",
       "    </tr>\n",
       "    <tr>\n",
       "      <th>25%</th>\n",
       "      <td>1.000000</td>\n",
       "      <td>1.000000</td>\n",
       "      <td>1.000000</td>\n",
       "      <td>1.000000</td>\n",
       "    </tr>\n",
       "    <tr>\n",
       "      <th>50%</th>\n",
       "      <td>1.000000</td>\n",
       "      <td>1.000000</td>\n",
       "      <td>1.000000</td>\n",
       "      <td>1.000000</td>\n",
       "    </tr>\n",
       "    <tr>\n",
       "      <th>75%</th>\n",
       "      <td>3.000000</td>\n",
       "      <td>2.000000</td>\n",
       "      <td>2.000000</td>\n",
       "      <td>2.000000</td>\n",
       "    </tr>\n",
       "    <tr>\n",
       "      <th>max</th>\n",
       "      <td>457.000000</td>\n",
       "      <td>227.000000</td>\n",
       "      <td>203.000000</td>\n",
       "      <td>250.000000</td>\n",
       "    </tr>\n",
       "  </tbody>\n",
       "</table>\n",
       "</div>"
      ],
      "text/plain": [
       "         Training  Development-1  Development-2        Test\n",
       "count  493.000000     338.000000     334.000000  386.000000\n",
       "mean     5.590264       4.097633       3.829341    4.142487\n",
       "std     29.587174      17.885539      15.759574   18.503153\n",
       "min      1.000000       1.000000       1.000000    1.000000\n",
       "25%      1.000000       1.000000       1.000000    1.000000\n",
       "50%      1.000000       1.000000       1.000000    1.000000\n",
       "75%      3.000000       2.000000       2.000000    2.000000\n",
       "max    457.000000     227.000000     203.000000  250.000000"
      ]
     },
     "execution_count": 62,
     "metadata": {},
     "output_type": "execute_result"
    }
   ],
   "source": [
    "sample_code"
   ]
  },
  {
   "cell_type": "code",
   "execution_count": 63,
   "metadata": {},
   "outputs": [
    {
     "data": {
      "text/html": [
       "<div>\n",
       "<style scoped>\n",
       "    .dataframe tbody tr th:only-of-type {\n",
       "        vertical-align: middle;\n",
       "    }\n",
       "\n",
       "    .dataframe tbody tr th {\n",
       "        vertical-align: top;\n",
       "    }\n",
       "\n",
       "    .dataframe thead th {\n",
       "        text-align: right;\n",
       "    }\n",
       "</style>\n",
       "<table border=\"1\" class=\"dataframe\">\n",
       "  <thead>\n",
       "    <tr style=\"text-align: right;\">\n",
       "      <th></th>\n",
       "      <th>Training</th>\n",
       "      <th>Development-1</th>\n",
       "      <th>Development-2</th>\n",
       "      <th>Test</th>\n",
       "    </tr>\n",
       "  </thead>\n",
       "  <tbody>\n",
       "    <tr>\n",
       "      <th>count</th>\n",
       "      <td>492.000000</td>\n",
       "      <td>337.000000</td>\n",
       "      <td>333.000000</td>\n",
       "      <td>385.000000</td>\n",
       "    </tr>\n",
       "    <tr>\n",
       "      <th>mean</th>\n",
       "      <td>4.672764</td>\n",
       "      <td>3.436202</td>\n",
       "      <td>3.231231</td>\n",
       "      <td>3.503896</td>\n",
       "    </tr>\n",
       "    <tr>\n",
       "      <th>std</th>\n",
       "      <td>21.478560</td>\n",
       "      <td>13.135158</td>\n",
       "      <td>11.369638</td>\n",
       "      <td>13.617567</td>\n",
       "    </tr>\n",
       "    <tr>\n",
       "      <th>min</th>\n",
       "      <td>1.000000</td>\n",
       "      <td>1.000000</td>\n",
       "      <td>1.000000</td>\n",
       "      <td>1.000000</td>\n",
       "    </tr>\n",
       "    <tr>\n",
       "      <th>25%</th>\n",
       "      <td>1.000000</td>\n",
       "      <td>1.000000</td>\n",
       "      <td>1.000000</td>\n",
       "      <td>1.000000</td>\n",
       "    </tr>\n",
       "    <tr>\n",
       "      <th>50%</th>\n",
       "      <td>1.000000</td>\n",
       "      <td>1.000000</td>\n",
       "      <td>1.000000</td>\n",
       "      <td>1.000000</td>\n",
       "    </tr>\n",
       "    <tr>\n",
       "      <th>75%</th>\n",
       "      <td>3.000000</td>\n",
       "      <td>2.000000</td>\n",
       "      <td>2.000000</td>\n",
       "      <td>2.000000</td>\n",
       "    </tr>\n",
       "    <tr>\n",
       "      <th>max</th>\n",
       "      <td>386.000000</td>\n",
       "      <td>199.000000</td>\n",
       "      <td>178.000000</td>\n",
       "      <td>222.000000</td>\n",
       "    </tr>\n",
       "  </tbody>\n",
       "</table>\n",
       "</div>"
      ],
      "text/plain": [
       "         Training  Development-1  Development-2        Test\n",
       "count  492.000000     337.000000     333.000000  385.000000\n",
       "mean     4.672764       3.436202       3.231231    3.503896\n",
       "std     21.478560      13.135158      11.369638   13.617567\n",
       "min      1.000000       1.000000       1.000000    1.000000\n",
       "25%      1.000000       1.000000       1.000000    1.000000\n",
       "50%      1.000000       1.000000       1.000000    1.000000\n",
       "75%      3.000000       2.000000       2.000000    2.000000\n",
       "max    386.000000     199.000000     178.000000  222.000000"
      ]
     },
     "execution_count": 63,
     "metadata": {},
     "output_type": "execute_result"
    }
   ],
   "source": [
    "exc_sample_code"
   ]
  }
 ],
 "metadata": {
  "kernelspec": {
   "display_name": "Python 3",
   "language": "python",
   "name": "python3"
  },
  "language_info": {
   "codemirror_mode": {
    "name": "ipython",
    "version": 3
   },
   "file_extension": ".py",
   "mimetype": "text/x-python",
   "name": "python",
   "nbconvert_exporter": "python",
   "pygments_lexer": "ipython3",
   "version": "3.6.5"
  }
 },
 "nbformat": 4,
 "nbformat_minor": 2
}
